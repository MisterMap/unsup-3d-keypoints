{
 "cells": [
  {
   "cell_type": "code",
   "execution_count": 1,
   "id": "f66a22dc",
   "metadata": {},
   "outputs": [],
   "source": [
    "PYTHON_PATHS = [\"..\"]\n",
    "import sys\n",
    "for path in PYTHON_PATHS:\n",
    "    if path not in sys.path:\n",
    "        sys.path.append(path)"
   ]
  },
  {
   "cell_type": "code",
   "execution_count": 2,
   "id": "4c2b8c92",
   "metadata": {},
   "outputs": [],
   "source": [
    "import numpy as np\n",
    "import os\n",
    "from tqdm.notebook import tqdm as tqdm\n",
    "import matplotlib.pyplot as plt\n",
    "import seaborn as sns\n",
    "import kapture\n",
    "import cv2\n",
    "import tempfile"
   ]
  },
  {
   "cell_type": "code",
   "execution_count": 3,
   "id": "4595ad02",
   "metadata": {},
   "outputs": [],
   "source": [
    "from unsupkeypoints.data import DescriptorDataModule\n",
    "from unsupkeypoints.models import PointNetwork, BinarizationPointNetwork, SimpleModel\n",
    "from unsupkeypoints.criterions import RegressionLoss, RGBandModelReprojectionLoss\n",
    "from pytorch_lightning.loggers import TensorBoardLogger\n",
    "from pytorch_lightning.utilities.parsing import AttributeDict\n",
    "import torch\n",
    "import pytorch_lightning as pl\n",
    "import tqdm\n",
    "from collections import Counter\n",
    "from unsupkeypoints.utils.universal_factory import UniversalFactory\n",
    "factory = UniversalFactory([PointNetwork, RegressionLoss, RGBandModelReprojectionLoss,\n",
    "                            BinarizationPointNetwork, SimpleModel])"
   ]
  },
  {
   "cell_type": "markdown",
   "id": "2d5da174",
   "metadata": {},
   "source": [
    "# Load dataset"
   ]
  },
  {
   "cell_type": "code",
   "execution_count": 4,
   "id": "69b3e30d",
   "metadata": {},
   "outputs": [],
   "source": [
    "from clearml import Dataset\n",
    "dataset_path = Dataset.get(dataset_id=\"40300e50677746148777e4a3c3a21ba9\").get_local_copy()"
   ]
  },
  {
   "cell_type": "code",
   "execution_count": 5,
   "id": "75aa608b",
   "metadata": {},
   "outputs": [],
   "source": [
    "TRAIN_PATH = os.path.join(dataset_path, \"output_kapture/7scenes/fire/mapping\")\n",
    "TEST_PATH = os.path.join(dataset_path, \"output_kapture/7scenes/fire/query\")"
   ]
  },
  {
   "cell_type": "code",
   "execution_count": 6,
   "id": "c0d03a8a",
   "metadata": {},
   "outputs": [
    {
     "name": "stdout",
     "output_type": "stream",
     "text": [
      "[DescriptorDataModule] - train dataset size 389950\n",
      "[DescriptorDataModule] - test dataset size 346052\n"
     ]
    }
   ],
   "source": [
    "data_module = DescriptorDataModule(TRAIN_PATH, TEST_PATH)"
   ]
  },
  {
   "cell_type": "code",
   "execution_count": 7,
   "id": "9297e2c7",
   "metadata": {},
   "outputs": [],
   "source": [
    "data_module._batch_size = 1024"
   ]
  },
  {
   "cell_type": "markdown",
   "id": "9d78c249",
   "metadata": {},
   "source": [
    "# Load model"
   ]
  },
  {
   "cell_type": "code",
   "execution_count": 8,
   "id": "719ac990",
   "metadata": {},
   "outputs": [],
   "source": [
    "model_path = \"/home/mikhail/.clearml/cache/lightning_logs/fire/version_6/checkpoints/epoch=39-step=30479.ckpt\"\n",
    "# model_path = \"/home/mikhail/.clearml/cache/lightning_logs/fire/version_8/checkpoints/epoch=39-step=30479.ckpt\"\n",
    "# model_path = \"/home/mikhail/.clearml/cache/lightning_logs/fire/version_7/checkpoints/epoch=49-step=38099.ckpt\""
   ]
  },
  {
   "cell_type": "code",
   "execution_count": 9,
   "id": "fc873152",
   "metadata": {},
   "outputs": [
    {
     "data": {
      "text/plain": [
       "<All keys matched successfully>"
      ]
     },
     "execution_count": 9,
     "metadata": {},
     "output_type": "execute_result"
    }
   ],
   "source": [
    "params = AttributeDict(\n",
    "    name=\"BinarizationPointNetwork\",\n",
    "    optimizer=AttributeDict(\n",
    "        lr=1e-3\n",
    "    ),\n",
    "    classifier=AttributeDict(\n",
    "        name=\"SimpleModel\",\n",
    "        input_dimension=512,\n",
    "        hidden_dimensions=(256,),\n",
    "        output_dimension=64\n",
    "    ),\n",
    "    regressor=AttributeDict(\n",
    "        name=\"SimpleModel\",\n",
    "        input_dimension=64,\n",
    "        hidden_dimensions=(64,),\n",
    "        output_dimension=3\n",
    "    ),\n",
    "    criterion={\n",
    "        \"name\": \"RGBandModelReprojectionLoss\",\n",
    "        \"minimal_depth\": 0.1,\n",
    "        \"maximal_distance\": 0.05,\n",
    "        \"maximal_reprojection_loss\": 1000,\n",
    "        \"robust_maximal_reprojection_loss\": 100,\n",
    "        \"distance_coef\": 1000\n",
    "    },\n",
    "    probabilistic=True,\n",
    "    sigmoid_after_classifier=True,\n",
    "    max_probability_error=0.45,\n",
    "    metric_logging_frequency=2,\n",
    ")\n",
    "model = factory.make_from_parameters(params)\n",
    "checkpoint = torch.load(model_path)\n",
    "model.load_state_dict(checkpoint[\"state_dict\"])"
   ]
  },
  {
   "cell_type": "markdown",
   "id": "742887b6",
   "metadata": {},
   "source": [
    "# Calculate result"
   ]
  },
  {
   "cell_type": "code",
   "execution_count": 10,
   "id": "3e0e5fe7",
   "metadata": {},
   "outputs": [],
   "source": [
    "from unsupkeypoints.utils.result_saver import ResultSaver\n",
    "from unsupkeypoints.utils.math import calculate_errors"
   ]
  },
  {
   "cell_type": "code",
   "execution_count": 11,
   "id": "2bc7ceed",
   "metadata": {},
   "outputs": [
    {
     "name": "stderr",
     "output_type": "stream",
     "text": [
      "100%|███████████████████████████████████████████████████████████████████████████████████████████████████████████████████████████████████████████████████████████████████████████████████████████████████████████████████████████████████████████| 338/338 [00:08<00:00, 42.17it/s]\n"
     ]
    }
   ],
   "source": [
    "result_saver = ResultSaver()\n",
    "for batch in tqdm.tqdm(data_module.test_dataloader()):\n",
    "    probabilites = torch.sigmoid(model._classifier(batch[\"descriptor\"]))\n",
    "    predicted_points = model(batch[\"descriptor\"])[0]\n",
    "    result_saver.save({\n",
    "        \"predicted_point3d\": predicted_points,\n",
    "        \"probabilites\": probabilites,\n",
    "        \"keypoint\": batch[\"keypoint\"],\n",
    "        \"image_index\": batch[\"image_index\"],\n",
    "        \"position\": batch[\"position\"],\n",
    "        \"point3d\": batch[\"point3d\"],\n",
    "    })"
   ]
  },
  {
   "cell_type": "code",
   "execution_count": 12,
   "id": "e8791236",
   "metadata": {},
   "outputs": [],
   "source": [
    "point_errors = np.linalg.norm(result_saver[\"predicted_point3d\"] - result_saver[\"point3d\"], axis=1)\n",
    "probability_errors = np.mean(np.abs(0.5 - result_saver[\"probabilites\"]), axis=1)"
   ]
  },
  {
   "cell_type": "code",
   "execution_count": 13,
   "id": "4dfda7c7",
   "metadata": {},
   "outputs": [
    {
     "data": {
      "text/plain": [
       "0.17898664"
      ]
     },
     "execution_count": 13,
     "metadata": {},
     "output_type": "execute_result"
    }
   ],
   "source": [
    "np.mean(point_errors)"
   ]
  },
  {
   "cell_type": "code",
   "execution_count": 14,
   "id": "44c337ef",
   "metadata": {},
   "outputs": [
    {
     "data": {
      "text/plain": [
       "<seaborn.axisgrid.JointGrid at 0x7f6838c14fd0>"
      ]
     },
     "execution_count": 14,
     "metadata": {},
     "output_type": "execute_result"
    },
    {
     "data": {
      "image/png": "[encoded data removed]",
      "text/plain": [
       "<Figure size 432x432 with 3 Axes>"
      ]
     },
     "metadata": {
      "needs_background": "light"
     },
     "output_type": "display_data"
    }
   ],
   "source": [
    "g = sns.JointGrid(x=point_errors, y=probability_errors)\n",
    "g.plot_joint(\n",
    "    sns.histplot,\n",
    "    cmap=\"light:#03012d\",\n",
    ")\n",
    "g.plot_marginals(sns.histplot, element=\"step\", color=\"#03012d\")"
   ]
  },
  {
   "cell_type": "markdown",
   "id": "5749fd8b",
   "metadata": {},
   "source": [
    "# PnP estimation"
   ]
  },
  {
   "cell_type": "code",
   "execution_count": 15,
   "id": "666991b2",
   "metadata": {},
   "outputs": [],
   "source": [
    "class PositionEstimator(object):\n",
    "    def __init__(self, flags=cv2.SOLVEPNP_EPNP):\n",
    "        self._camera_matrix = np.array([[525., 0, 320],\n",
    "                                           [0, 525., 240],\n",
    "                                           [0, 0, 1]])\n",
    "        self._dist_coef = np.zeros(5)\n",
    "        self._point_count_threshold = 6\n",
    "        self._flags = flags\n",
    "\n",
    "    def calculate_position_errors(self, points3d, keypoints, image_indexes, ground_truth_positions):\n",
    "        image_index_list = self.get_image_index_list(image_indexes)\n",
    "        estimated_positions = self.estimate_positions(points3d, \n",
    "                                                      keypoints, \n",
    "                                                      image_indexes, \n",
    "                                                      image_index_list)\n",
    "        ground_truth_positions = self.filter_truth_positions(ground_truth_positions, \n",
    "                                                             image_indexes, \n",
    "                                                             image_index_list)\n",
    "        return calculate_errors(estimated_positions, ground_truth_positions, True)\n",
    "\n",
    "    def filter_truth_positions(self, ground_truth_positions, image_indexes, image_index_list):\n",
    "        result = []\n",
    "        for index in image_index_list:\n",
    "            image_mask = image_indexes == index\n",
    "            result.append(ground_truth_positions[image_mask][0])\n",
    "        return np.array(result)\n",
    "\n",
    "    def estimate_positions(self, points3d, keypoints, image_indexes, image_index_list):\n",
    "        result = []\n",
    "        for index in tqdm.tqdm(image_index_list):\n",
    "            image_mask = image_indexes == index\n",
    "            image_points3d = points3d[image_mask]\n",
    "            image_keypoints = keypoints[image_mask]\n",
    "            recovered_position = self.estimate_position(image_points3d, image_keypoints)\n",
    "            result.append(recovered_position)\n",
    "        return np.array(result)\n",
    "\n",
    "    def get_image_index_list(self, image_indexes):\n",
    "        image_index_list = sorted(list(set(image_indexes)))\n",
    "        return image_index_list\n",
    "\n",
    "    def estimate_position(self, image_points3d, image_keypoints):\n",
    "        rvec, tvec = self.solve_pnp(image_points3d, image_keypoints)\n",
    "        return self.position_from_pnp_result(rvec, tvec)\n",
    "\n",
    "    def solve_pnp(self, image_points3d, image_keypoints):\n",
    "        found, rvec, tvec = cv2.solvePnP(image_points3d,\n",
    "                                         image_keypoints,\n",
    "                                         self._camera_matrix,\n",
    "                                         self._dist_coef,\n",
    "                                         flags=self._flags)\n",
    "        return rvec, tvec\n",
    "\n",
    "    def position_from_pnp_result(self, rvec, tvec):\n",
    "        rotation = cv2.Rodrigues(rvec)[0]\n",
    "        translation = -np.matrix(rotation).T * np.matrix(tvec)\n",
    "        translation = np.array(translation)[:, 0]\n",
    "        recovered_camera_position = np.zeros((4, 4))\n",
    "        recovered_camera_position[:3, :3] = rotation.T\n",
    "        recovered_camera_position[:3, 3] = translation\n",
    "        recovered_camera_position[3, 3] = 1\n",
    "        return recovered_camera_position"
   ]
  },
  {
   "cell_type": "code",
   "execution_count": 16,
   "id": "1ea1829a",
   "metadata": {},
   "outputs": [],
   "source": [
    "def calculate_result_saver_errors(position_estimator, result_saver):\n",
    "    return position_estimator.calculate_position_errors(\n",
    "        result_saver[\"predicted_point3d\"],\n",
    "        result_saver[\"keypoint\"],\n",
    "        result_saver[\"image_index\"],\n",
    "        result_saver[\"position\"])"
   ]
  },
  {
   "cell_type": "code",
   "execution_count": 17,
   "id": "716f183c",
   "metadata": {},
   "outputs": [
    {
     "name": "stderr",
     "output_type": "stream",
     "text": [
      "100%|████████████████████████████████████████████████████████████████████████████████████████████████████████████████████████████████████████████████████████████████████████████████████████████████████████████████████████████████████████| 2000/2000 [00:03<00:00, 644.57it/s]\n"
     ]
    },
    {
     "name": "stdout",
     "output_type": "stream",
     "text": [
      "Mean position error: 0.4376723243734025\n",
      "Median position error: 0.2930460722545971\n",
      "Mean rotation error: 15.804132865170883\n",
      "Median rotation error: 7.498139826194903\n"
     ]
    }
   ],
   "source": [
    "position_estimator = PositionEstimator()\n",
    "result = calculate_result_saver_errors(position_estimator, result_saver)"
   ]
  },
  {
   "cell_type": "code",
   "execution_count": 18,
   "id": "c4d4872f",
   "metadata": {},
   "outputs": [
    {
     "name": "stderr",
     "output_type": "stream",
     "text": [
      "100%|████████████████████████████████████████████████████████████████████████████████████████████████████████████████████████████████████████████████████████████████████████████████████████████████████████████████████████████████████████| 2000/2000 [00:05<00:00, 368.48it/s]\n"
     ]
    },
    {
     "name": "stdout",
     "output_type": "stream",
     "text": [
      "Mean position error: 5188420418.959368\n",
      "Median position error: 2.348427303766469\n",
      "Mean rotation error: 103.03009512234577\n",
      "Median rotation error: 169.10760882237417\n"
     ]
    }
   ],
   "source": [
    "position_estimator = PositionEstimator(cv2.SOLVEPNP_ITERATIVE)\n",
    "position_errors, rotation_errors = position_estimator.calculate_position_errors(\n",
    "    result_saver[\"predicted_point3d\"],\n",
    "    result_saver[\"keypoint\"],\n",
    "    result_saver[\"image_index\"],\n",
    "    result_saver[\"position\"])"
   ]
  },
  {
   "cell_type": "code",
   "execution_count": 19,
   "id": "98762c28",
   "metadata": {},
   "outputs": [
    {
     "name": "stderr",
     "output_type": "stream",
     "text": [
      "100%|████████████████████████████████████████████████████████████████████████████████████████████████████████████████████████████████████████████████████████████████████████████████████████████████████████████████████████████████████████| 2000/2000 [00:03<00:00, 638.31it/s]\n"
     ]
    },
    {
     "name": "stdout",
     "output_type": "stream",
     "text": [
      "Mean position error: 0.42876536375925894\n",
      "Median position error: 0.2902537561861733\n",
      "Mean rotation error: 19.368598298876744\n",
      "Median rotation error: 8.48247837633046\n"
     ]
    }
   ],
   "source": [
    "position_estimator = PositionEstimator(cv2.SOLVEPNP_SQPNP)\n",
    "position_errors, rotation_errors = position_estimator.calculate_position_errors(\n",
    "    result_saver[\"predicted_point3d\"],\n",
    "    result_saver[\"keypoint\"],\n",
    "    result_saver[\"image_index\"],\n",
    "    result_saver[\"position\"])"
   ]
  },
  {
   "cell_type": "markdown",
   "id": "d40506c7",
   "metadata": {},
   "source": [
    "## Ransac"
   ]
  },
  {
   "cell_type": "code",
   "execution_count": 20,
   "id": "6637d202",
   "metadata": {},
   "outputs": [],
   "source": [
    "class PositionEstimatorRansac(PositionEstimator):\n",
    "    def solve_pnp(self, image_points3d, image_keypoints):\n",
    "        found, rvec, tvec, inliers = cv2.solvePnPRansac(image_points3d,\n",
    "                                         image_keypoints,\n",
    "                                         self._camera_matrix,\n",
    "                                         self._dist_coef,\n",
    "                                         flags=self._flags)\n",
    "        return rvec, tvec"
   ]
  },
  {
   "cell_type": "code",
   "execution_count": 21,
   "id": "b08e7d1e",
   "metadata": {},
   "outputs": [
    {
     "name": "stderr",
     "output_type": "stream",
     "text": [
      "100%|████████████████████████████████████████████████████████████████████████████████████████████████████████████████████████████████████████████████████████████████████████████████████████████████████████████████████████████████████████| 2000/2000 [00:15<00:00, 133.26it/s]\n"
     ]
    },
    {
     "name": "stdout",
     "output_type": "stream",
     "text": [
      "Mean position error: 0.31554491436749765\n",
      "Median position error: 0.13610376383005762\n",
      "Mean rotation error: 16.041920221727892\n",
      "Median rotation error: 4.863610945273647\n"
     ]
    }
   ],
   "source": [
    "position_estimator = PositionEstimatorRansac()\n",
    "result = calculate_result_saver_errors(position_estimator, result_saver)"
   ]
  },
  {
   "cell_type": "code",
   "execution_count": 22,
   "id": "b633550e",
   "metadata": {},
   "outputs": [
    {
     "name": "stderr",
     "output_type": "stream",
     "text": [
      "100%|████████████████████████████████████████████████████████████████████████████████████████████████████████████████████████████████████████████████████████████████████████████████████████████████████████████████████████████████████████| 2000/2000 [00:15<00:00, 129.61it/s]\n"
     ]
    },
    {
     "name": "stdout",
     "output_type": "stream",
     "text": [
      "Mean position error: 1710931.5203962685\n",
      "Median position error: 0.16868038222221238\n",
      "Mean rotation error: 47.62461005766968\n",
      "Median rotation error: 6.117465265205119\n"
     ]
    }
   ],
   "source": [
    "position_estimator = PositionEstimatorRansac(cv2.SOLVEPNP_ITERATIVE)\n",
    "result = calculate_result_saver_errors(position_estimator, result_saver)"
   ]
  },
  {
   "cell_type": "code",
   "execution_count": 23,
   "id": "3db88abd",
   "metadata": {},
   "outputs": [
    {
     "name": "stderr",
     "output_type": "stream",
     "text": [
      "100%|████████████████████████████████████████████████████████████████████████████████████████████████████████████████████████████████████████████████████████████████████████████████████████████████████████████████████████████████████████| 2000/2000 [00:14<00:00, 134.88it/s]\n"
     ]
    },
    {
     "name": "stdout",
     "output_type": "stream",
     "text": [
      "Mean position error: 0.2963110134414695\n",
      "Median position error: 0.13481844408749322\n",
      "Mean rotation error: 15.486976995654183\n",
      "Median rotation error: 4.822773290396752\n"
     ]
    }
   ],
   "source": [
    "position_estimator = PositionEstimatorRansac(cv2.SOLVEPNP_SQPNP)\n",
    "result = calculate_result_saver_errors(position_estimator, result_saver)"
   ]
  },
  {
   "cell_type": "markdown",
   "id": "9f3c4804",
   "metadata": {},
   "source": [
    "## Probabilites"
   ]
  },
  {
   "cell_type": "code",
   "execution_count": 24,
   "id": "f76e6bb8",
   "metadata": {},
   "outputs": [],
   "source": [
    "def calculate_score(probabilities):\n",
    "    return np.mean(np.abs(0.5 - probabilities), axis=1)"
   ]
  },
  {
   "cell_type": "code",
   "execution_count": 25,
   "id": "d20f948e",
   "metadata": {},
   "outputs": [],
   "source": [
    "class ScoredPositionEstimator(PositionEstimator):\n",
    "    def __init__(self, flags=cv2.SOLVEPNP_EPNP, maximum_point_count=100, minimal_score=0.45):\n",
    "        super().__init__(flags)\n",
    "        self._maximum_point_count = maximum_point_count\n",
    "        self._minimal_score = minimal_score\n",
    "\n",
    "    def calculate_position_errors(self, points3d, keypoints, image_indexes, ground_truth_positions, scores):\n",
    "        image_index_list = self.get_image_index_list(image_indexes)\n",
    "        estimated_positions = self.estimate_positions(points3d, \n",
    "                                                      keypoints, \n",
    "                                                      image_indexes, \n",
    "                                                      image_index_list,\n",
    "                                                      scores)\n",
    "        ground_truth_positions = self.filter_truth_positions(ground_truth_positions, \n",
    "                                                             image_indexes, \n",
    "                                                             image_index_list)\n",
    "        return calculate_errors(estimated_positions, ground_truth_positions, True)\n",
    "    \n",
    "    def estimate_positions(self, points3d, keypoints, image_indexes, image_index_list, scores):\n",
    "        result = []\n",
    "        for index in tqdm.tqdm(image_index_list):\n",
    "            image_mask = image_indexes == index\n",
    "            score_mask = self.calculate_score_mask(scores[image_mask])\n",
    "            image_points3d = points3d[image_mask][score_mask]\n",
    "            image_keypoints = keypoints[image_mask][score_mask]\n",
    "            recovered_position = self.estimate_position(image_points3d, image_keypoints)\n",
    "            result.append(recovered_position)\n",
    "        return np.array(result)\n",
    "    \n",
    "    def calculate_score_mask(self, scores):\n",
    "        sorted_scores = np.sort(scores)\n",
    "        arg_sorted_scores = np.argsort(scores)\n",
    "        good_score_count = self.calculate_good_score_count(sorted_scores)\n",
    "        good_score_indexes = arg_sorted_scores[-good_score_count:]\n",
    "        mask = np.zeros_like(scores, dtype=np.bool)\n",
    "        mask[good_score_indexes] = True\n",
    "        return mask\n",
    "\n",
    "    def calculate_good_score_count(self, sorted_scores):\n",
    "        good_score_count = len(sorted_scores) - np.searchsorted(sorted_scores, self._minimal_score)\n",
    "        good_score_count = min(self._maximum_point_count, good_score_count)\n",
    "        good_score_count = max(self._point_count_threshold, good_score_count)\n",
    "        return good_score_count"
   ]
  },
  {
   "cell_type": "code",
   "execution_count": 26,
   "id": "d0c9a16e",
   "metadata": {},
   "outputs": [
    {
     "name": "stderr",
     "output_type": "stream",
     "text": [
      "  0%|                                                                                                                                                                                                                                                    | 0/2000 [00:00<?, ?it/s]/tmp/ipykernel_231762/2588326741.py:35: DeprecationWarning: `np.bool` is a deprecated alias for the builtin `bool`. To silence this warning, use `bool` by itself. Doing this will not modify any behavior and is safe. If you specifically wanted the numpy scalar type, use `np.bool_` here.\n",
      "Deprecated in NumPy 1.20; for more details and guidance: https://numpy.org/devdocs/release/1.20.0-notes.html#deprecations\n",
      "  mask = np.zeros_like(scores, dtype=np.bool)\n",
      "100%|████████████████████████████████████████████████████████████████████████████████████████████████████████████████████████████████████████████████████████████████████████████████████████████████████████████████████████████████████████| 2000/2000 [00:03<00:00, 594.12it/s]\n"
     ]
    },
    {
     "name": "stdout",
     "output_type": "stream",
     "text": [
      "Mean position error: 0.25439237360515976\n",
      "Median position error: 0.1100726980668662\n",
      "Mean rotation error: 12.845261722209687\n",
      "Median rotation error: 3.7187431094748615\n"
     ]
    }
   ],
   "source": [
    "position_estimator = ScoredPositionEstimator(maximum_point_count=100, minimal_score=0.45)\n",
    "position_errors, rotation_errors = position_estimator.calculate_position_errors(\n",
    "    result_saver[\"predicted_point3d\"],\n",
    "    result_saver[\"keypoint\"],\n",
    "    result_saver[\"image_index\"],\n",
    "    result_saver[\"position\"],\n",
    "    calculate_score(result_saver[\"probabilites\"]))"
   ]
  },
  {
   "cell_type": "code",
   "execution_count": 27,
   "id": "95a5cca1",
   "metadata": {},
   "outputs": [
    {
     "name": "stderr",
     "output_type": "stream",
     "text": [
      "  0%|                                                                                                                                                                                                                                                    | 0/2000 [00:00<?, ?it/s]/tmp/ipykernel_231762/2588326741.py:35: DeprecationWarning: `np.bool` is a deprecated alias for the builtin `bool`. To silence this warning, use `bool` by itself. Doing this will not modify any behavior and is safe. If you specifically wanted the numpy scalar type, use `np.bool_` here.\n",
      "Deprecated in NumPy 1.20; for more details and guidance: https://numpy.org/devdocs/release/1.20.0-notes.html#deprecations\n",
      "  mask = np.zeros_like(scores, dtype=np.bool)\n",
      "100%|████████████████████████████████████████████████████████████████████████████████████████████████████████████████████████████████████████████████████████████████████████████████████████████████████████████████████████████████████████| 2000/2000 [00:04<00:00, 448.41it/s]\n"
     ]
    },
    {
     "name": "stdout",
     "output_type": "stream",
     "text": [
      "Mean position error: 30170923.974164005\n",
      "Median position error: 1.1171397857237526\n",
      "Mean rotation error: 82.41175371473715\n",
      "Median rotation error: 32.61323523178399\n"
     ]
    }
   ],
   "source": [
    "position_estimator = ScoredPositionEstimator(flags=cv2.SOLVEPNP_ITERATIVE)\n",
    "position_errors, rotation_errors = position_estimator.calculate_position_errors(\n",
    "    result_saver[\"predicted_point3d\"],\n",
    "    result_saver[\"keypoint\"],\n",
    "    result_saver[\"image_index\"],\n",
    "    result_saver[\"position\"],\n",
    "    calculate_score(result_saver[\"probabilites\"]))"
   ]
  },
  {
   "cell_type": "code",
   "execution_count": 28,
   "id": "61b3c4c4",
   "metadata": {},
   "outputs": [
    {
     "name": "stderr",
     "output_type": "stream",
     "text": [
      "  0%|                                                                                                                                                                                                                                                    | 0/2000 [00:00<?, ?it/s]/tmp/ipykernel_231762/2588326741.py:35: DeprecationWarning: `np.bool` is a deprecated alias for the builtin `bool`. To silence this warning, use `bool` by itself. Doing this will not modify any behavior and is safe. If you specifically wanted the numpy scalar type, use `np.bool_` here.\n",
      "Deprecated in NumPy 1.20; for more details and guidance: https://numpy.org/devdocs/release/1.20.0-notes.html#deprecations\n",
      "  mask = np.zeros_like(scores, dtype=np.bool)\n",
      "100%|████████████████████████████████████████████████████████████████████████████████████████████████████████████████████████████████████████████████████████████████████████████████████████████████████████████████████████████████████████| 2000/2000 [00:03<00:00, 585.66it/s]\n"
     ]
    },
    {
     "name": "stdout",
     "output_type": "stream",
     "text": [
      "Mean position error: 0.23523332986780246\n",
      "Median position error: 0.0996552296152372\n",
      "Mean rotation error: 12.686266161626865\n",
      "Median rotation error: 3.3325925488649357\n"
     ]
    }
   ],
   "source": [
    "position_estimator = ScoredPositionEstimator(flags=cv2.SOLVEPNP_SQPNP)\n",
    "position_errors, rotation_errors = position_estimator.calculate_position_errors(\n",
    "    result_saver[\"predicted_point3d\"],\n",
    "    result_saver[\"keypoint\"],\n",
    "    result_saver[\"image_index\"],\n",
    "    result_saver[\"position\"],\n",
    "    calculate_score(result_saver[\"probabilites\"]))"
   ]
  },
  {
   "cell_type": "markdown",
   "id": "46d9ed2b",
   "metadata": {},
   "source": [
    "# Ransac scored"
   ]
  },
  {
   "cell_type": "code",
   "execution_count": 29,
   "id": "1d761f6e",
   "metadata": {},
   "outputs": [],
   "source": [
    "class ScoredPositionEstimatorRansac(ScoredPositionEstimator):\n",
    "    def solve_pnp(self, image_points3d, image_keypoints):\n",
    "        found, rvec, tvec, inliers = cv2.solvePnPRansac(image_points3d,\n",
    "                                         image_keypoints,\n",
    "                                         self._camera_matrix,\n",
    "                                         self._dist_coef,\n",
    "                                         flags=self._flags)\n",
    "        return rvec, tvec"
   ]
  },
  {
   "cell_type": "code",
   "execution_count": 30,
   "id": "e7631e9f",
   "metadata": {},
   "outputs": [
    {
     "name": "stderr",
     "output_type": "stream",
     "text": [
      "  0%|                                                                                                                                                                                                                                                    | 0/2000 [00:00<?, ?it/s]/tmp/ipykernel_231762/2588326741.py:35: DeprecationWarning: `np.bool` is a deprecated alias for the builtin `bool`. To silence this warning, use `bool` by itself. Doing this will not modify any behavior and is safe. If you specifically wanted the numpy scalar type, use `np.bool_` here.\n",
      "Deprecated in NumPy 1.20; for more details and guidance: https://numpy.org/devdocs/release/1.20.0-notes.html#deprecations\n",
      "  mask = np.zeros_like(scores, dtype=np.bool)\n",
      "100%|████████████████████████████████████████████████████████████████████████████████████████████████████████████████████████████████████████████████████████████████████████████████████████████████████████████████████████████████████████| 2000/2000 [00:14<00:00, 142.79it/s]\n"
     ]
    },
    {
     "name": "stdout",
     "output_type": "stream",
     "text": [
      "Mean position error: 0.3023833603173864\n",
      "Median position error: 0.11168111734256637\n",
      "Mean rotation error: 15.78413641259045\n",
      "Median rotation error: 3.9780823275323955\n"
     ]
    }
   ],
   "source": [
    "position_estimator = ScoredPositionEstimatorRansac(maximum_point_count=100, minimal_score=0.45)\n",
    "position_errors, rotation_errors = position_estimator.calculate_position_errors(\n",
    "    result_saver[\"predicted_point3d\"],\n",
    "    result_saver[\"keypoint\"],\n",
    "    result_saver[\"image_index\"],\n",
    "    result_saver[\"position\"],\n",
    "    calculate_score(result_saver[\"probabilites\"]))"
   ]
  },
  {
   "cell_type": "code",
   "execution_count": 31,
   "id": "210a2451",
   "metadata": {},
   "outputs": [
    {
     "name": "stderr",
     "output_type": "stream",
     "text": [
      "  0%|                                                                                                                                                                                                                                                    | 0/2000 [00:00<?, ?it/s]/tmp/ipykernel_231762/2588326741.py:35: DeprecationWarning: `np.bool` is a deprecated alias for the builtin `bool`. To silence this warning, use `bool` by itself. Doing this will not modify any behavior and is safe. If you specifically wanted the numpy scalar type, use `np.bool_` here.\n",
      "Deprecated in NumPy 1.20; for more details and guidance: https://numpy.org/devdocs/release/1.20.0-notes.html#deprecations\n",
      "  mask = np.zeros_like(scores, dtype=np.bool)\n",
      "100%|████████████████████████████████████████████████████████████████████████████████████████████████████████████████████████████████████████████████████████████████████████████████████████████████████████████████████████████████████████| 2000/2000 [00:14<00:00, 137.04it/s]\n"
     ]
    },
    {
     "name": "stdout",
     "output_type": "stream",
     "text": [
      "Mean position error: 3462196630.396\n",
      "Median position error: 0.18973526985328484\n",
      "Mean rotation error: 60.462796642482395\n",
      "Median rotation error: 7.63867035354915\n"
     ]
    }
   ],
   "source": [
    "position_estimator = ScoredPositionEstimatorRansac(flags=cv2.SOLVEPNP_ITERATIVE)\n",
    "position_errors, rotation_errors = position_estimator.calculate_position_errors(\n",
    "    result_saver[\"predicted_point3d\"],\n",
    "    result_saver[\"keypoint\"],\n",
    "    result_saver[\"image_index\"],\n",
    "    result_saver[\"position\"],\n",
    "    calculate_score(result_saver[\"probabilites\"]))"
   ]
  },
  {
   "cell_type": "code",
   "execution_count": 32,
   "id": "1782d206",
   "metadata": {},
   "outputs": [
    {
     "name": "stderr",
     "output_type": "stream",
     "text": [
      "  0%|                                                                                                                                                                                                                                                    | 0/2000 [00:00<?, ?it/s]/tmp/ipykernel_231762/2588326741.py:35: DeprecationWarning: `np.bool` is a deprecated alias for the builtin `bool`. To silence this warning, use `bool` by itself. Doing this will not modify any behavior and is safe. If you specifically wanted the numpy scalar type, use `np.bool_` here.\n",
      "Deprecated in NumPy 1.20; for more details and guidance: https://numpy.org/devdocs/release/1.20.0-notes.html#deprecations\n",
      "  mask = np.zeros_like(scores, dtype=np.bool)\n",
      "100%|████████████████████████████████████████████████████████████████████████████████████████████████████████████████████████████████████████████████████████████████████████████████████████████████████████████████████████████████████████| 2000/2000 [00:13<00:00, 144.30it/s]\n"
     ]
    },
    {
     "name": "stdout",
     "output_type": "stream",
     "text": [
      "Mean position error: 0.3002626861922862\n",
      "Median position error: 0.10923210295980715\n",
      "Mean rotation error: 15.825203747955564\n",
      "Median rotation error: 3.9607034922768847\n"
     ]
    }
   ],
   "source": [
    "position_estimator = ScoredPositionEstimatorRansac(flags=cv2.SOLVEPNP_SQPNP)\n",
    "position_errors, rotation_errors = position_estimator.calculate_position_errors(\n",
    "    result_saver[\"predicted_point3d\"],\n",
    "    result_saver[\"keypoint\"],\n",
    "    result_saver[\"image_index\"],\n",
    "    result_saver[\"position\"],\n",
    "    calculate_score(result_saver[\"probabilites\"]))"
   ]
  },
  {
   "cell_type": "code",
   "execution_count": null,
   "id": "9fb9d6fd",
   "metadata": {},
   "outputs": [],
   "source": []
  }
 ],
 "metadata": {
  "kernelspec": {
   "display_name": "Python 3 (ipykernel)",
   "language": "python",
   "name": "python3"
  },
  "language_info": {
   "codemirror_mode": {
    "name": "ipython",
    "version": 3
   },
   "file_extension": ".py",
   "mimetype": "text/x-python",
   "name": "python",
   "nbconvert_exporter": "python",
   "pygments_lexer": "ipython3",
   "version": "3.9.5"
  }
 },
 "nbformat": 4,
 "nbformat_minor": 5
}
