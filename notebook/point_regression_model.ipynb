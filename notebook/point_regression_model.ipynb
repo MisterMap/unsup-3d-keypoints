{
 "cells": [
  {
   "cell_type": "code",
   "execution_count": 1,
   "metadata": {},
   "outputs": [],
   "source": [
    "PYTHON_PATHS = [\"..\"]\n",
    "import sys\n",
    "for path in PYTHON_PATHS:\n",
    "    if path not in sys.path:\n",
    "        sys.path.append(path)"
   ]
  },
  {
   "cell_type": "code",
   "execution_count": 2,
   "metadata": {},
   "outputs": [],
   "source": [
    "import numpy as np\n",
    "import os\n",
    "from tqdm.notebook import tqdm as tqdm\n",
    "import matplotlib.pyplot as plt"
   ]
  },
  {
   "cell_type": "code",
   "execution_count": 3,
   "metadata": {},
   "outputs": [],
   "source": [
    "from unsupkeypoints.data import DescriptorDataModule\n",
    "from unsupkeypoints.models import PointNetwork\n",
    "from unsupkeypoints.criterions import RegressionLoss, RGBandModelReprojectionLoss\n",
    "from pytorch_lightning.loggers import TensorBoardLogger\n",
    "from pytorch_lightning.utilities.parsing import AttributeDict\n",
    "import torch\n",
    "import pytorch_lightning as pl"
   ]
  },
  {
   "cell_type": "code",
   "execution_count": 4,
   "metadata": {},
   "outputs": [],
   "source": [
    "from clearml import Task"
   ]
  },
  {
   "cell_type": "code",
   "execution_count": 5,
   "metadata": {},
   "outputs": [
    {
     "name": "stdout",
     "output_type": "stream",
     "text": [
      "ClearML Task: created new task id=1ad3814e0a7e4b3eb69a6f7b764e5c40\n",
      "ClearML results page: https://app.community.clear.ml/projects/f773f19fb1d94708840bc5460e97ba2b/experiments/1ad3814e0a7e4b3eb69a6f7b764e5c40/output/log\n"
     ]
    }
   ],
   "source": [
    "task = Task.init(project_name=\"unsup-3d-keypoints\", task_name=\"3d position from descriptor\")"
   ]
  },
  {
   "cell_type": "markdown",
   "metadata": {},
   "source": [
    "# Data module"
   ]
  },
  {
   "cell_type": "code",
   "execution_count": 6,
   "metadata": {},
   "outputs": [],
   "source": [
    "from clearml import Dataset\n",
    "dataset_path = Dataset.get(dataset_id=\"40300e50677746148777e4a3c3a21ba9\").get_local_copy()"
   ]
  },
  {
   "cell_type": "code",
   "execution_count": 7,
   "metadata": {},
   "outputs": [],
   "source": [
    "TRAIN_PATH = os.path.join(dataset_path, \"output_kapture/7scenes/fire/mapping\")\n",
    "TEST_PATH = os.path.join(dataset_path, \"output_kapture/7scenes/fire/query\")"
   ]
  },
  {
   "cell_type": "code",
   "execution_count": 8,
   "metadata": {},
   "outputs": [
    {
     "name": "stdout",
     "output_type": "stream",
     "text": [
      "[DescriptorDataModule] - train dataset size 568196\n",
      "[DescriptorDataModule] - test dataset size 544913\n"
     ]
    }
   ],
   "source": [
    "data_module = DescriptorDataModule(TRAIN_PATH, TEST_PATH)"
   ]
  },
  {
   "cell_type": "markdown",
   "metadata": {},
   "source": [
    "# Model"
   ]
  },
  {
   "cell_type": "code",
   "execution_count": 9,
   "metadata": {},
   "outputs": [
    {
     "data": {
      "text/plain": [
       "{'name': 'point_net',\n",
       " 'optimizer': {},\n",
       " 'hidden_dimensions': (100,),\n",
       " 'input_dimension': 512}"
      ]
     },
     "execution_count": 9,
     "metadata": {},
     "output_type": "execute_result"
    }
   ],
   "source": [
    "params = AttributeDict(\n",
    "    name=\"point_net\",\n",
    "    optimizer=AttributeDict(),\n",
    "    hidden_dimensions=(100,),\n",
    "    input_dimension=512,\n",
    ")\n",
    "task.connect(params)"
   ]
  },
  {
   "cell_type": "code",
   "execution_count": 10,
   "metadata": {},
   "outputs": [],
   "source": [
    "from inspect import signature"
   ]
  },
  {
   "cell_type": "code",
   "execution_count": 11,
   "metadata": {},
   "outputs": [],
   "source": [
    "def kwargs_function(function):\n",
    "    def new_function(*args, **kwargs):\n",
    "        parameter_names = signature(function).parameters.keys()\n",
    "        right_kwargs = {}\n",
    "        for parameter_name in parameter_names:\n",
    "            if parameter_name in kwargs.keys():\n",
    "                right_kwargs[parameter_name] = kwargs[parameter_name]\n",
    "        return function(*args, **right_kwargs)\n",
    "    return new_function"
   ]
  },
  {
   "cell_type": "code",
   "execution_count": 13,
   "metadata": {},
   "outputs": [],
   "source": [
    "criterion_params = {\n",
    "    \"criterion_name\": \"rgbm_reprojection\",\n",
    "    \"minimal_depth\": 0.1,\n",
    "    \"maximal_distance\": 0.2,\n",
    "    \"maximal_reprojection_loss\": 1000,\n",
    "    \"robust_maximal_reprojection_loss\": 100,\n",
    "    \"distance_coef\": 500\n",
    "}\n",
    "task.connect(criterion_params)\n",
    "\n",
    "criterions = {\n",
    "    \"rgbm_reprojection\": kwargs_function(RGBandModelReprojectionLoss),\n",
    "    \"regression\": kwargs_function(RegressionLoss),   \n",
    "}\n",
    "\n",
    "criterion = criterions[criterion_params[\"criterion_name\"]](**criterion_params)\n",
    "model = PointNetwork(params, criterion)"
   ]
  },
  {
   "cell_type": "code",
   "execution_count": 15,
   "metadata": {},
   "outputs": [
    {
     "name": "stderr",
     "output_type": "stream",
     "text": [
      "GPU available: True, used: True\n",
      "TPU available: False, using: 0 TPU cores\n"
     ]
    }
   ],
   "source": [
    "trainer_params = {\n",
    "    \"max_epochs\": 10,\n",
    "    \"gpus\": 1,\n",
    "    \"batch_size\": 512,\n",
    "}\n",
    "task.connect(trainer_params)\n",
    "data_module._batch_size = trainer_params[\"batch_size\"]\n",
    "trainer = kwargs_function(pl.Trainer)(logger=TensorBoardLogger(\"lightning_logs\"), **trainer_params)"
   ]
  },
  {
   "cell_type": "code",
   "execution_count": 16,
   "metadata": {},
   "outputs": [
    {
     "name": "stderr",
     "output_type": "stream",
     "text": [
      "LOCAL_RANK: 0 - CUDA_VISIBLE_DEVICES: [0]\n",
      "\n",
      "  | Name       | Type                        | Params\n",
      "-----------------------------------------------------------\n",
      "0 | _criterion | RGBandModelReprojectionLoss | 0     \n",
      "1 | backend    | Sequential                  | 51.6 K\n",
      "-----------------------------------------------------------\n",
      "51.6 K    Trainable params\n",
      "0         Non-trainable params\n",
      "51.6 K    Total params\n",
      "0.206     Total estimated model params size (MB)\n"
     ]
    },
    {
     "data": {
      "application/vnd.jupyter.widget-view+json": {
       "model_id": "",
       "version_major": 2,
       "version_minor": 0
      },
      "text/plain": [
       "Validation sanity check: 0it [00:00, ?it/s]"
      ]
     },
     "metadata": {},
     "output_type": "display_data"
    },
    {
     "data": {
      "application/vnd.jupyter.widget-view+json": {
       "model_id": "b41272377a694623a64fe4f76ed013a0",
       "version_major": 2,
       "version_minor": 0
      },
      "text/plain": [
       "Training: 0it [00:00, ?it/s]"
      ]
     },
     "metadata": {},
     "output_type": "display_data"
    },
    {
     "data": {
      "application/vnd.jupyter.widget-view+json": {
       "model_id": "",
       "version_major": 2,
       "version_minor": 0
      },
      "text/plain": [
       "Validating: 0it [00:00, ?it/s]"
      ]
     },
     "metadata": {},
     "output_type": "display_data"
    },
    {
     "name": "stderr",
     "output_type": "stream",
     "text": [
      "/usr/local/lib/python3.9/dist-packages/pytorch_lightning/callbacks/model_checkpoint.py:610: LightningDeprecationWarning:\n",
      "\n",
      "Relying on `self.log('val_loss', ...)` to set the ModelCheckpoint monitor is deprecated in v1.2 and will be removed in v1.4. Please, create your own `mc = ModelCheckpoint(monitor='your_monitor')` and use it as `Trainer(callbacks=[mc])`.\n",
      "\n"
     ]
    },
    {
     "data": {
      "application/vnd.jupyter.widget-view+json": {
       "model_id": "",
       "version_major": 2,
       "version_minor": 0
      },
      "text/plain": [
       "Validating: 0it [00:00, ?it/s]"
      ]
     },
     "metadata": {},
     "output_type": "display_data"
    },
    {
     "data": {
      "application/vnd.jupyter.widget-view+json": {
       "model_id": "",
       "version_major": 2,
       "version_minor": 0
      },
      "text/plain": [
       "Validating: 0it [00:00, ?it/s]"
      ]
     },
     "metadata": {},
     "output_type": "display_data"
    },
    {
     "data": {
      "application/vnd.jupyter.widget-view+json": {
       "model_id": "",
       "version_major": 2,
       "version_minor": 0
      },
      "text/plain": [
       "Validating: 0it [00:00, ?it/s]"
      ]
     },
     "metadata": {},
     "output_type": "display_data"
    },
    {
     "data": {
      "application/vnd.jupyter.widget-view+json": {
       "model_id": "",
       "version_major": 2,
       "version_minor": 0
      },
      "text/plain": [
       "Validating: 0it [00:00, ?it/s]"
      ]
     },
     "metadata": {},
     "output_type": "display_data"
    },
    {
     "data": {
      "application/vnd.jupyter.widget-view+json": {
       "model_id": "",
       "version_major": 2,
       "version_minor": 0
      },
      "text/plain": [
       "Validating: 0it [00:00, ?it/s]"
      ]
     },
     "metadata": {},
     "output_type": "display_data"
    },
    {
     "data": {
      "application/vnd.jupyter.widget-view+json": {
       "model_id": "",
       "version_major": 2,
       "version_minor": 0
      },
      "text/plain": [
       "Validating: 0it [00:00, ?it/s]"
      ]
     },
     "metadata": {},
     "output_type": "display_data"
    },
    {
     "data": {
      "application/vnd.jupyter.widget-view+json": {
       "model_id": "",
       "version_major": 2,
       "version_minor": 0
      },
      "text/plain": [
       "Validating: 0it [00:00, ?it/s]"
      ]
     },
     "metadata": {},
     "output_type": "display_data"
    },
    {
     "data": {
      "application/vnd.jupyter.widget-view+json": {
       "model_id": "",
       "version_major": 2,
       "version_minor": 0
      },
      "text/plain": [
       "Validating: 0it [00:00, ?it/s]"
      ]
     },
     "metadata": {},
     "output_type": "display_data"
    },
    {
     "data": {
      "application/vnd.jupyter.widget-view+json": {
       "model_id": "",
       "version_major": 2,
       "version_minor": 0
      },
      "text/plain": [
       "Validating: 0it [00:00, ?it/s]"
      ]
     },
     "metadata": {},
     "output_type": "display_data"
    }
   ],
   "source": [
    "trainer.fit(model, data_module)"
   ]
  },
  {
   "cell_type": "code",
   "execution_count": 17,
   "metadata": {},
   "outputs": [
    {
     "name": "stderr",
     "output_type": "stream",
     "text": [
      "LOCAL_RANK: 0 - CUDA_VISIBLE_DEVICES: [0]\n"
     ]
    },
    {
     "data": {
      "application/vnd.jupyter.widget-view+json": {
       "model_id": "60befdb6b28042d9a558a29d396c3c7d",
       "version_major": 2,
       "version_minor": 0
      },
      "text/plain": [
       "Testing: 0it [00:00, ?it/s]"
      ]
     },
     "metadata": {},
     "output_type": "display_data"
    },
    {
     "name": "stdout",
     "output_type": "stream",
     "text": [
      "--------------------------------------------------------------------------------\n",
      "DATALOADER:0 TEST RESULTS\n",
      "{'median_position_error': 0.42893016813276064,\n",
      " 'median_rotation_error': 14.561164613986632,\n",
      " 'point_count': 2000.0,\n",
      " 'reconstruction_median_position_error': 0.004407721311686942,\n",
      " 'reconstruction_median_rotation_error': 0.17272340737539726,\n",
      " 'test_distance_loss': 0.2827285826206207,\n",
      " 'test_good_point_ratio': 0.39606520533561707,\n",
      " 'test_loss': 142.28924560546875,\n",
      " 'test_reprojection_loss': 115.63237762451172}\n",
      "--------------------------------------------------------------------------------\n"
     ]
    },
    {
     "data": {
      "text/plain": [
       "[{'test_loss': 142.28924560546875,\n",
       "  'test_reprojection_loss': 115.63237762451172,\n",
       "  'test_distance_loss': 0.2827285826206207,\n",
       "  'test_good_point_ratio': 0.39606520533561707,\n",
       "  'median_position_error': 0.42893016813276064,\n",
       "  'median_rotation_error': 14.561164613986632,\n",
       "  'reconstruction_median_position_error': 0.004407721311686942,\n",
       "  'reconstruction_median_rotation_error': 0.17272340737539726,\n",
       "  'point_count': 2000.0}]"
      ]
     },
     "execution_count": 17,
     "metadata": {},
     "output_type": "execute_result"
    }
   ],
   "source": [
    "trainer.test(model, data_module.test_dataloader())"
   ]
  },
  {
   "cell_type": "code",
   "execution_count": 18,
   "metadata": {},
   "outputs": [
    {
     "name": "stdout",
     "output_type": "stream",
     "text": [
      "2021-07-15 12:59:24,217 - clearml.Task - INFO - Waiting to finish uploads\n",
      "2021-07-15 12:59:25,291 - clearml.Task - INFO - Finished uploading\n"
     ]
    }
   ],
   "source": [
    "task.close()"
   ]
  },
  {
   "cell_type": "code",
   "execution_count": null,
   "metadata": {},
   "outputs": [],
   "source": []
  }
 ],
 "metadata": {
  "kernelspec": {
   "display_name": "Python 3 (ipykernel)",
   "language": "python",
   "name": "python3"
  },
  "language_info": {
   "codemirror_mode": {
    "name": "ipython",
    "version": 3
   },
   "file_extension": ".py",
   "mimetype": "text/x-python",
   "name": "python",
   "nbconvert_exporter": "python",
   "pygments_lexer": "ipython3",
   "version": "3.9.5"
  }
 },
 "nbformat": 4,
 "nbformat_minor": 2
}
