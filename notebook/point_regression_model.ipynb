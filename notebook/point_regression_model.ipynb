{
 "cells": [
  {
   "cell_type": "code",
   "execution_count": 1,
   "metadata": {},
   "outputs": [],
   "source": [
    "PYTHON_PATHS = [\"..\"]\n",
    "import sys\n",
    "for path in PYTHON_PATHS:\n",
    "    if path not in sys.path:\n",
    "        sys.path.append(path)"
   ]
  },
  {
   "cell_type": "code",
   "execution_count": 2,
   "metadata": {},
   "outputs": [],
   "source": [
    "import numpy as np\n",
    "import os\n",
    "from tqdm.notebook import tqdm as tqdm\n",
    "import matplotlib.pyplot as plt\n",
    "import seaborn as sns\n",
    "import kapture\n",
    "import cv2\n",
    "import tempfile"
   ]
  },
  {
   "cell_type": "code",
   "execution_count": 3,
   "metadata": {},
   "outputs": [],
   "source": [
    "from unsupkeypoints.data import DescriptorDataModule\n",
    "from unsupkeypoints.models import PointNetwork, BinarizationPointNetwork, SimpleModel\n",
    "from unsupkeypoints.criterions import RegressionLoss, RGBandModelReprojectionLoss\n",
    "from pytorch_lightning.loggers import TensorBoardLogger\n",
    "from pytorch_lightning.utilities.parsing import AttributeDict\n",
    "import torch\n",
    "import pytorch_lightning as pl\n",
    "import tqdm\n",
    "from collections import Counter"
   ]
  },
  {
   "cell_type": "code",
   "execution_count": 4,
   "metadata": {},
   "outputs": [],
   "source": [
    "from clearml import Task"
   ]
  },
  {
   "cell_type": "code",
   "execution_count": 5,
   "metadata": {},
   "outputs": [],
   "source": [
    "from unsupkeypoints.utils.universal_factory import UniversalFactory"
   ]
  },
  {
   "cell_type": "code",
   "execution_count": 6,
   "metadata": {},
   "outputs": [],
   "source": [
    "factory = UniversalFactory([PointNetwork, RegressionLoss, RGBandModelReprojectionLoss,\n",
    "                            BinarizationPointNetwork, SimpleModel])"
   ]
  },
  {
   "cell_type": "code",
   "execution_count": 7,
   "metadata": {},
   "outputs": [
    {
     "name": "stdout",
     "output_type": "stream",
     "text": [
      "ClearML Task: created new task id=b0c6e2d22fbf42fcac7073d2d0226662\n",
      "ClearML results page: https://app.community.clear.ml/projects/f773f19fb1d94708840bc5460e97ba2b/experiments/b0c6e2d22fbf42fcac7073d2d0226662/output/log\n"
     ]
    }
   ],
   "source": [
    "task = Task.init(project_name=\"unsup-3d-keypoints\", task_name=\"3d position from descriptor\")"
   ]
  },
  {
   "cell_type": "markdown",
   "metadata": {},
   "source": [
    "# Data module"
   ]
  },
  {
   "cell_type": "code",
   "execution_count": 8,
   "metadata": {},
   "outputs": [],
   "source": [
    "from clearml import Dataset\n",
    "dataset_path = Dataset.get(dataset_id=\"40300e50677746148777e4a3c3a21ba9\").get_local_copy()\n",
    "# dataset_path = \"/home/mikhail/.clearml/cache/storage_manager/datasets/ds_40300e50677746148777e4a3c3a21ba9\""
   ]
  },
  {
   "cell_type": "code",
   "execution_count": 9,
   "metadata": {},
   "outputs": [],
   "source": [
    "TRAIN_PATH = os.path.join(dataset_path, \"output_kapture/7scenes/fire/mapping\")\n",
    "TEST_PATH = os.path.join(dataset_path, \"output_kapture/7scenes/fire/query\")"
   ]
  },
  {
   "cell_type": "code",
   "execution_count": 10,
   "metadata": {},
   "outputs": [
    {
     "name": "stdout",
     "output_type": "stream",
     "text": [
      "[DescriptorDataModule] - train dataset size 389950\n",
      "[DescriptorDataModule] - test dataset size 346052\n"
     ]
    }
   ],
   "source": [
    "data_module = DescriptorDataModule(TRAIN_PATH, TEST_PATH)"
   ]
  },
  {
   "cell_type": "markdown",
   "metadata": {},
   "source": [
    "# Model"
   ]
  },
  {
   "cell_type": "code",
   "execution_count": 11,
   "metadata": {},
   "outputs": [],
   "source": [
    "params = AttributeDict(\n",
    "    name=\"BinarizationPointNetwork\",\n",
    "    optimizer=AttributeDict(\n",
    "        lr=1e-3\n",
    "    ),\n",
    "    classifier=AttributeDict(\n",
    "        name=\"SimpleModel\",\n",
    "        input_dimension=512,\n",
    "        hidden_dimensions=(256,),\n",
    "        output_dimension=64\n",
    "    ),\n",
    "    regressor=AttributeDict(\n",
    "        name=\"SimpleModel\",\n",
    "        input_dimension=64,\n",
    "        hidden_dimensions=(64,),\n",
    "        output_dimension=3\n",
    "    ),\n",
    "    criterion={\n",
    "        \"name\": \"RGBandModelReprojectionLoss\",\n",
    "        \"minimal_depth\": 0.1,\n",
    "        \"maximal_distance\": 0.05,\n",
    "        \"maximal_reprojection_loss\": 1000,\n",
    "        \"robust_maximal_reprojection_loss\": 100,\n",
    "        \"distance_coef\": 1000\n",
    "    },\n",
    "    probabilistic=True,\n",
    "    sigmoid_after_classifier=True,\n",
    "    max_probability_error=0.45,\n",
    "    metric_logging_frequency=2,\n",
    ")\n",
    "task.connect(params)\n",
    "model = factory.make_from_parameters(params)"
   ]
  },
  {
   "cell_type": "code",
   "execution_count": 12,
   "metadata": {},
   "outputs": [
    {
     "name": "stderr",
     "output_type": "stream",
     "text": [
      "INFO    ::pytorch_lightning.utilities.distributed: GPU available: True, used: True\n",
      "INFO    ::pytorch_lightning.utilities.distributed: TPU available: False, using: 0 TPU cores\n"
     ]
    }
   ],
   "source": [
    "trainer_params = {\n",
    "    \"max_epochs\": 10,\n",
    "    \"gpus\": 1,\n",
    "    \"batch_size\": 512,\n",
    "    \"checkpoint_every_n_val_epochs\": 2,\n",
    "    \"check_val_every_n_epoch\": 2\n",
    "}\n",
    "task.connect(trainer_params)\n",
    "# model_checkpoint_directory = tempfile.mkdtemp(dir=os.path.dirname(task.cache_dir))\n",
    "model_checkpoint = pl.callbacks.ModelCheckpoint(\n",
    "    every_n_val_epochs=trainer_params[\"checkpoint_every_n_val_epochs\"])\n",
    "data_module._batch_size = trainer_params[\"batch_size\"]\n",
    "trainer = factory.kwargs_function(pl.Trainer)(\n",
    "    logger=TensorBoardLogger(os.path.join(os.path.dirname(task.cache_dir), \"lightning_logs\"), name=\"fire\"),\n",
    "    callbacks=[model_checkpoint],\n",
    "    **trainer_params)"
   ]
  },
  {
   "cell_type": "code",
   "execution_count": 13,
   "metadata": {},
   "outputs": [
    {
     "name": "stderr",
     "output_type": "stream",
     "text": [
      "INFO    ::pytorch_lightning.accelerators.gpu: LOCAL_RANK: 0 - CUDA_VISIBLE_DEVICES: [0]\n",
      "INFO    ::pytorch_lightning.core.lightning: \n",
      "  | Name        | Type                        | Params\n",
      "------------------------------------------------------------\n",
      "0 | _classifier | SimpleModel                 | 147 K \n",
      "1 | _regressor  | SimpleModel                 | 4.4 K \n",
      "2 | _criterion  | RGBandModelReprojectionLoss | 0     \n",
      "------------------------------------------------------------\n",
      "152 K     Trainable params\n",
      "0         Non-trainable params\n",
      "152 K     Total params\n",
      "0.609     Total estimated model params size (MB)\n"
     ]
    },
    {
     "data": {
      "application/vnd.jupyter.widget-view+json": {
       "model_id": "",
       "version_major": 2,
       "version_minor": 0
      },
      "text/plain": [
       "Validation sanity check: 0it [00:00, ?it/s]"
      ]
     },
     "metadata": {},
     "output_type": "display_data"
    },
    {
     "data": {
      "application/vnd.jupyter.widget-view+json": {
       "model_id": "0d18d164f40b430ba139d8ec3d4270b5",
       "version_major": 2,
       "version_minor": 0
      },
      "text/plain": [
       "Training: 0it [00:00, ?it/s]"
      ]
     },
     "metadata": {},
     "output_type": "display_data"
    },
    {
     "data": {
      "application/vnd.jupyter.widget-view+json": {
       "model_id": "",
       "version_major": 2,
       "version_minor": 0
      },
      "text/plain": [
       "Validating: 0it [00:00, ?it/s]"
      ]
     },
     "metadata": {},
     "output_type": "display_data"
    },
    {
     "name": "stderr",
     "output_type": "stream",
     "text": [
      "/usr/local/lib/python3.9/dist-packages/pytorch_lightning/callbacks/model_checkpoint.py:610: LightningDeprecationWarning:\n",
      "\n",
      "Relying on `self.log('val_loss', ...)` to set the ModelCheckpoint monitor is deprecated in v1.2 and will be removed in v1.4. Please, create your own `mc = ModelCheckpoint(monitor='your_monitor')` and use it as `Trainer(callbacks=[mc])`.\n",
      "\n",
      "/usr/local/lib/python3.9/dist-packages/pytorch_lightning/trainer/trainer.py:897: UserWarning:\n",
      "\n",
      "Detected KeyboardInterrupt, attempting graceful shutdown...\n",
      "\n"
     ]
    }
   ],
   "source": [
    "trainer.fit(model, data_module)"
   ]
  },
  {
   "cell_type": "code",
   "execution_count": 14,
   "metadata": {},
   "outputs": [
    {
     "name": "stderr",
     "output_type": "stream",
     "text": [
      "INFO    ::pytorch_lightning.accelerators.gpu: LOCAL_RANK: 0 - CUDA_VISIBLE_DEVICES: [0]\n"
     ]
    },
    {
     "data": {
      "application/vnd.jupyter.widget-view+json": {
       "model_id": "46976a6b7d1f4442b35f8050774d6924",
       "version_major": 2,
       "version_minor": 0
      },
      "text/plain": [
       "Testing: 0it [00:00, ?it/s]"
      ]
     },
     "metadata": {},
     "output_type": "display_data"
    },
    {
     "name": "stdout",
     "output_type": "stream",
     "text": [
      "--------------------------------------------------------------------------------\n",
      "DATALOADER:0 TEST RESULTS\n",
      "{'test_distance_loss': 0.2339845895767212,\n",
      " 'test_good_point_ratio': 0.07517945021390915,\n",
      " 'test_good_reprojection_loss': nan,\n",
      " 'test_loss': 232.11334228515625,\n",
      " 'test_median_position_error': 0.6230296025998491,\n",
      " 'test_median_rotation_error': 16.12280463762646,\n",
      " 'test_point_count': 2000.0,\n",
      " 'test_reprojection_loss': 115.14398956298828}\n",
      "--------------------------------------------------------------------------------\n"
     ]
    },
    {
     "data": {
      "text/plain": [
       "[{'test_loss': 232.11334228515625,\n",
       "  'test_reprojection_loss': 115.14398956298828,\n",
       "  'test_distance_loss': 0.2339845895767212,\n",
       "  'test_good_reprojection_loss': nan,\n",
       "  'test_good_point_ratio': 0.07517945021390915,\n",
       "  'test_median_position_error': 0.6230296025998491,\n",
       "  'test_median_rotation_error': 16.12280463762646,\n",
       "  'test_point_count': 2000.0}]"
      ]
     },
     "execution_count": 14,
     "metadata": {},
     "output_type": "execute_result"
    }
   ],
   "source": [
    "trainer.test(model, data_module.test_dataloader())"
   ]
  },
  {
   "cell_type": "code",
   "execution_count": null,
   "metadata": {},
   "outputs": [
    {
     "name": "stdout",
     "output_type": "stream",
     "text": [
      "2021-07-30 14:09:56,766 - clearml.Task - INFO - Waiting to finish uploads\n",
      "2021-07-30 14:09:57,810 - clearml.Task - INFO - Finished uploading\n"
     ]
    }
   ],
   "source": [
    "task.close()"
   ]
  },
  {
   "cell_type": "markdown",
   "metadata": {},
   "source": [
    "# Post analysis"
   ]
  },
  {
   "cell_type": "code",
   "execution_count": null,
   "metadata": {},
   "outputs": [],
   "source": [
    "# probabilities = np.zeros((0, 64))\n",
    "# predicted_points = np.zeros((0, 3))\n",
    "# points = np.zeros((0, 3))\n",
    "# for batch in tqdm.tqdm(data_module.test_dataloader()):\n",
    "#     batch_probabilites = torch.sigmoid(model._classifier(batch[\"descriptor\"])[batch[\"mask\"]]).detach().cpu().numpy()\n",
    "#     batch_predicted_points = model(batch[\"descriptor\"])[batch[\"mask\"]].detach().cpu().numpy()\n",
    "#     batch_points = batch[\"point3d\"][batch[\"mask\"]].detach().cpu().numpy()\n",
    "#     probabilities = np.concatenate([probabilities, batch_probabilites], axis=0)\n",
    "#     predicted_points = np.concatenate([predicted_points, batch_predicted_points], axis=0)\n",
    "#     points = np.concatenate([points, batch_points], axis=0)"
   ]
  },
  {
   "cell_type": "code",
   "execution_count": null,
   "metadata": {},
   "outputs": [],
   "source": [
    "# point_errors = np.linalg.norm(points - predicted_points, axis=1)\n",
    "# probability_errors = np.mean(np.abs(0.5 - probabilities), axis=1)"
   ]
  },
  {
   "cell_type": "code",
   "execution_count": null,
   "metadata": {},
   "outputs": [],
   "source": [
    "# g = sns.JointGrid(x=point_errors, y=probability_errors)\n",
    "# g.plot_joint(\n",
    "#     sns.histplot,\n",
    "#     cmap=\"light:#03012d\",\n",
    "# )\n",
    "# g.plot_marginals(sns.histplot, element=\"step\", color=\"#03012d\")"
   ]
  },
  {
   "cell_type": "code",
   "execution_count": null,
   "metadata": {},
   "outputs": [],
   "source": []
  }
 ],
 "metadata": {
  "kernelspec": {
   "display_name": "Python 3 (ipykernel)",
   "language": "python",
   "name": "python3"
  },
  "language_info": {
   "codemirror_mode": {
    "name": "ipython",
    "version": 3
   },
   "file_extension": ".py",
   "mimetype": "text/x-python",
   "name": "python",
   "nbconvert_exporter": "python",
   "pygments_lexer": "ipython3",
   "version": "3.9.5"
  }
 },
 "nbformat": 4,
 "nbformat_minor": 2
}
